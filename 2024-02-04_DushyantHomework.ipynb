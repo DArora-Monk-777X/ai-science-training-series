{
 "cells": [
  {
   "cell_type": "markdown",
   "id": "2f28445b-049b-4727-8187-b3403d03ff94",
   "metadata": {},
   "source": [
    "#Here is my First Homework"
   ]
  },
  {
   "cell_type": "code",
   "execution_count": 1,
   "id": "b9018a05-82e3-4d4e-a1cd-364017efd6f2",
   "metadata": {},
   "outputs": [
    {
     "name": "stdout",
     "output_type": "stream",
     "text": [
      "testing...\n"
     ]
    }
   ],
   "source": [
    "import os,sys\n",
    "print('testing...')"
   ]
  },
  {
   "cell_type": "code",
   "execution_count": null,
   "id": "167dc35c-b424-4348-a9e3-5d2f8c2872fb",
   "metadata": {},
   "outputs": [],
   "source": []
  }
 ],
 "metadata": {
  "kernelspec": {
   "display_name": "Python 3 (ipykernel)",
   "language": "python",
   "name": "python3"
  },
  "language_info": {
   "codemirror_mode": {
    "name": "ipython",
    "version": 3
   },
   "file_extension": ".py",
   "mimetype": "text/x-python",
   "name": "python",
   "nbconvert_exporter": "python",
   "pygments_lexer": "ipython3",
   "version": "3.9.15"
  }
 },
 "nbformat": 4,
 "nbformat_minor": 5
}
